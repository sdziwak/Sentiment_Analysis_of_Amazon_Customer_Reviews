{
 "cells": [
  {
   "cell_type": "code",
   "execution_count": 1,
   "id": "090ac46b-3565-4871-96d6-dc6a167be773",
   "metadata": {},
   "outputs": [],
   "source": [
    "# Importing necessary libraries\n",
    "import pandas as pd\n",
    "import re\n",
    "from sklearn.feature_extraction.text import TfidfVectorizer\n",
    "from sklearn.linear_model import LogisticRegression\n",
    "from sklearn.metrics import classification_report, accuracy_score"
   ]
  },
  {
   "cell_type": "code",
   "execution_count": 2,
   "id": "66acb793-0b23-4294-82ed-a5130612c15e",
   "metadata": {},
   "outputs": [],
   "source": [
    "# Defining relative paths to files with data\n",
    "train_file = \"C:/Users/sebas/repos/Sentiment_Analysis_of_Amazon_Customer_Reviews/data/train.ft.txt\"\n",
    "test_file = \"C:/Users/sebas/repos/Sentiment_Analysis_of_Amazon_Customer_Reviews/data/test.ft.txt\""
   ]
  },
  {
   "cell_type": "code",
   "execution_count": 3,
   "id": "eaa667b1-62d9-4498-bd8b-a66bd48b83da",
   "metadata": {},
   "outputs": [
    {
     "name": "stdout",
     "output_type": "stream",
     "text": [
      "Sample of train data: __label__2 Stuning even for the non-gamer: This sound track was beautiful! It paints the senery in your mind so well I would recomend it even to people who hate vid. game music! I have played the game Chrono Cross but out of all of the games I have ever played it has the best music! It backs away from crude keyboarding and takes a fresher step with grate guitars and soulful orchestras. It would impress anyone who cares to listen! ^_^\n",
      "\n",
      "Sample of test data: __label__2 Great CD: My lovely Pat has one of the GREAT voices of her generation. I have listened to this CD for YEARS and I still LOVE IT. When I'm in a good mood it makes me feel better. A bad mood just evaporates like sugar in the rain. This CD just oozes LIFE. Vocals are jusat STUUNNING and lyrics just kill. One of life's hidden gems. This is a desert isle CD in my book. Why she never made it big is just beyond me. Everytime I play this, no matter black, white, young, old, male, female EVERYBODY says one thing \"Who was that singing ?\"\n",
      "\n"
     ]
    }
   ],
   "source": [
    "# Loading train and test data\n",
    "with open(train_file, 'r', encoding='utf-8') as f:\n",
    "    train_data = f.readlines()\n",
    "\n",
    "with open(test_file, 'r', encoding='utf-8') as f:\n",
    "    test_data = f.readlines()\n",
    "\n",
    "# Displaying a sample line from each dataset\n",
    "print(\"Sample of train data:\", train_data[0])\n",
    "print(\"Sample of test data:\", test_data[0])"
   ]
  },
  {
   "cell_type": "code",
   "execution_count": 4,
   "id": "f5242566-1487-401d-9082-a5993209a6dc",
   "metadata": {},
   "outputs": [
    {
     "name": "stdout",
     "output_type": "stream",
     "text": [
      "        label                                               text\n",
      "0  __label__2  Stuning even for the non-gamer: This sound tra...\n",
      "1  __label__2  The best soundtrack ever to anything.: I'm rea...\n",
      "2  __label__2  Amazing!: This soundtrack is my favorite music...\n",
      "3  __label__2  Excellent Soundtrack: I truly like this soundt...\n",
      "4  __label__2  Remember, Pull Your Jaw Off The Floor After He...\n",
      "        label                                               text\n",
      "0  __label__2  Great CD: My lovely Pat has one of the GREAT v...\n",
      "1  __label__2  One of the best game music soundtracks - for a...\n",
      "2  __label__1  Batteries died within a year ...: I bought thi...\n",
      "3  __label__2  works fine, but Maha Energy is better: Check o...\n",
      "4  __label__2  Great for the non-audiophile: Reviewed quite a...\n"
     ]
    }
   ],
   "source": [
    "# Splitting labels and texts for train data\n",
    "train_labels = [line.split(' ', 1)[0] for line in train_data]\n",
    "train_texts = [line.split(' ', 1)[1].strip() for line in train_data]\n",
    "\n",
    "# Splitting labels and texts for test data\n",
    "test_labels = [line.split(' ', 1)[0] for line in test_data]\n",
    "test_texts = [line.split(' ', 1)[1].strip() for line in test_data]\n",
    "\n",
    "# Converting to DataFrame\n",
    "train_df = pd.DataFrame({'label': train_labels, 'text': train_texts})\n",
    "test_df = pd.DataFrame({'label': test_labels, 'text': test_texts})\n",
    "\n",
    "# Displaying samples\n",
    "print(train_df.head())\n",
    "print(test_df.head())"
   ]
  },
  {
   "cell_type": "code",
   "execution_count": 5,
   "id": "fa4d3845-2ce8-41b1-91eb-d0232ccddbb0",
   "metadata": {},
   "outputs": [
    {
     "name": "stdout",
     "output_type": "stream",
     "text": [
      "   label                                               text\n",
      "0      1  Stuning even for the non-gamer: This sound tra...\n",
      "1      1  The best soundtrack ever to anything.: I'm rea...\n",
      "2      1  Amazing!: This soundtrack is my favorite music...\n",
      "3      1  Excellent Soundtrack: I truly like this soundt...\n",
      "4      1  Remember, Pull Your Jaw Off The Floor After He...\n",
      "   label                                               text\n",
      "0      1  Great CD: My lovely Pat has one of the GREAT v...\n",
      "1      1  One of the best game music soundtracks - for a...\n",
      "2      0  Batteries died within a year ...: I bought thi...\n",
      "3      1  works fine, but Maha Energy is better: Check o...\n",
      "4      1  Great for the non-audiophile: Reviewed quite a...\n"
     ]
    }
   ],
   "source": [
    "# Mapping labels to integers\n",
    "label_map = {\"__label__1\": 0, \"__label__2\": 1}\n",
    "train_df['label'] = train_df['label'].map(label_map)\n",
    "test_df['label'] = test_df['label'].map(label_map)\n",
    "\n",
    "# Displaying updated DataFrame\n",
    "print(train_df.head())\n",
    "print(test_df.head())\n"
   ]
  },
  {
   "cell_type": "code",
   "execution_count": 6,
   "id": "c1adc910-5af1-4938-ba6e-9c144c760042",
   "metadata": {},
   "outputs": [
    {
     "name": "stdout",
     "output_type": "stream",
     "text": [
      "Train label distribution:\n",
      "label\n",
      "1    1800000\n",
      "0    1800000\n",
      "Name: count, dtype: int64\n",
      "\n",
      "Test label distribution:\n",
      "label\n",
      "1    200000\n",
      "0    200000\n",
      "Name: count, dtype: int64\n"
     ]
    }
   ],
   "source": [
    "# Checking label distribution\n",
    "print(\"Train label distribution:\")\n",
    "print(train_df['label'].value_counts())\n",
    "\n",
    "print(\"\\nTest label distribution:\")\n",
    "print(test_df['label'].value_counts())\n"
   ]
  },
  {
   "cell_type": "code",
   "execution_count": 7,
   "id": "47703d6f-e47d-498d-9be2-624ea2987520",
   "metadata": {},
   "outputs": [
    {
     "name": "stdout",
     "output_type": "stream",
     "text": [
      "Train text length statistics:\n",
      "count    3.600000e+06\n",
      "mean     4.316463e+02\n",
      "std      2.375526e+02\n",
      "min      7.200000e+01\n",
      "25%      2.310000e+02\n",
      "50%      3.830000e+02\n",
      "75%      5.950000e+02\n",
      "max      1.015000e+03\n",
      "Name: text_length, dtype: float64\n",
      "\n",
      "Test text length statistics:\n",
      "count    400000.000000\n",
      "mean        431.429630\n",
      "std         237.435383\n",
      "min          99.000000\n",
      "25%         231.000000\n",
      "50%         383.000000\n",
      "75%         595.000000\n",
      "max        1015.000000\n",
      "Name: text_length, dtype: float64\n"
     ]
    }
   ],
   "source": [
    "# Adding a column for text length\n",
    "train_df['text_length'] = train_df['text'].apply(len)\n",
    "test_df['text_length'] = test_df['text'].apply(len)\n",
    "\n",
    "# Printing statistics for text lengths\n",
    "print(\"Train text length statistics:\")\n",
    "print(train_df['text_length'].describe())\n",
    "\n",
    "print(\"\\nTest text length statistics:\")\n",
    "print(test_df['text_length'].describe())\n"
   ]
  },
  {
   "cell_type": "code",
   "execution_count": 8,
   "id": "8c79e81b-42ed-4512-9075-4d8e53e75ad1",
   "metadata": {},
   "outputs": [
    {
     "name": "stdout",
     "output_type": "stream",
     "text": [
      "Cleaned training data sample:\n",
      "   label                                               text  text_length\n",
      "0      1  Stuning even for the nongamer This sound track...          426\n",
      "1      1  The best soundtrack ever to anything Im readin...          509\n",
      "2      1  Amazing This soundtrack is my favorite music o...          760\n",
      "3      1  Excellent Soundtrack I truly like this soundtr...          743\n",
      "4      1  Remember Pull Your Jaw Off The Floor After Hea...          481\n"
     ]
    }
   ],
   "source": [
    "# Defining a function to clean the text\n",
    "def clean_text(text):\n",
    "    text = re.sub(r\"[^a-zA-Z0-9\\s]\", \"\", text)  # Removeing special characters\n",
    "    text = re.sub(r\"\\s+\", \" \", text).strip()    # Removing extra spaces\n",
    "    return text\n",
    "\n",
    "# Applying the cleaning function\n",
    "train_df['text'] = train_df['text'].apply(clean_text)\n",
    "test_df['text'] = test_df['text'].apply(clean_text)\n",
    "\n",
    "# Displaying cleaned samples\n",
    "print(\"Cleaned training data sample:\")\n",
    "print(train_df.head())"
   ]
  },
  {
   "cell_type": "code",
   "execution_count": 9,
   "id": "cbac1a50-53fd-4c55-8393-617a78d0be9e",
   "metadata": {},
   "outputs": [
    {
     "name": "stdout",
     "output_type": "stream",
     "text": [
      "TF-IDF train data shape: (3600000, 5000)\n",
      "TF-IDF test data shape: (400000, 5000)\n"
     ]
    }
   ],
   "source": [
    "# Initializing TF-IDF Vectorizer\n",
    "tfidf = TfidfVectorizer(max_features=5000, stop_words='english')\n",
    "\n",
    "# Transforming training and test data (sparse matrices)\n",
    "X_train = tfidf.fit_transform(train_df['text'])\n",
    "X_test = tfidf.transform(test_df['text'])\n",
    "\n",
    "# Adding labels\n",
    "y_train = train_df['label']\n",
    "y_test = test_df['label']\n",
    "\n",
    "# Displaying shape of transformed data\n",
    "print(\"TF-IDF train data shape:\", X_train.shape)\n",
    "print(\"TF-IDF test data shape:\", X_test.shape)\n"
   ]
  },
  {
   "cell_type": "code",
   "execution_count": 10,
   "id": "a13300b3-ddc2-4550-8a82-4b67c0f60360",
   "metadata": {},
   "outputs": [
    {
     "name": "stdout",
     "output_type": "stream",
     "text": [
      "Training Accuracy: 0.8871375\n",
      "Test Accuracy: 0.8865125\n",
      "\n",
      "Classification Report (Test Data):\n",
      "              precision    recall  f1-score   support\n",
      "\n",
      "           0       0.89      0.88      0.89    200000\n",
      "           1       0.88      0.89      0.89    200000\n",
      "\n",
      "    accuracy                           0.89    400000\n",
      "   macro avg       0.89      0.89      0.89    400000\n",
      "weighted avg       0.89      0.89      0.89    400000\n",
      "\n"
     ]
    }
   ],
   "source": [
    "# Logistic Regression Model: Initialization, Training and Evaluation\n",
    "\n",
    "# Initializing the logistic regression model\n",
    "model = LogisticRegression(max_iter=1000)\n",
    "\n",
    "# Training the model\n",
    "model.fit(X_train, y_train)\n",
    "\n",
    "# Making predictions\n",
    "y_pred_train = model.predict(X_train)\n",
    "y_pred_test = model.predict(X_test)\n",
    "\n",
    "# Evaluating the model\n",
    "print(\"Training Accuracy:\", accuracy_score(y_train, y_pred_train))\n",
    "print(\"Test Accuracy:\", accuracy_score(y_test, y_pred_test))\n",
    "\n",
    "# Classification report\n",
    "print(\"\\nClassification Report (Test Data):\")\n",
    "print(classification_report(y_test, y_pred_test))\n"
   ]
  },
  {
   "cell_type": "code",
   "execution_count": 11,
   "id": "acfe46a6-20a2-48b0-a21c-9f1295bb06fa",
   "metadata": {},
   "outputs": [
    {
     "name": "stdout",
     "output_type": "stream",
     "text": [
      "Comment: This product is amazing! I loved every moment using it.\n",
      "Predicted Sentiment: Positive\n",
      "---\n",
      "Comment: Terrible experience. The item broke after one use.\n",
      "Predicted Sentiment: Negative\n",
      "---\n",
      "Comment: Decent quality and quite worth the price.\n",
      "Predicted Sentiment: Positive\n",
      "---\n",
      "Comment: Absolutely fantastic service, highly recommend!\n",
      "Predicted Sentiment: Positive\n",
      "---\n",
      "Comment: Too bad quality for this price.\n",
      "Predicted Sentiment: Negative\n",
      "---\n"
     ]
    }
   ],
   "source": [
    "# Example comments for sentiment prediction\n",
    "example_comments = [\n",
    "    \"This product is amazing! I loved every moment using it.\",\n",
    "    \"Terrible experience. The item broke after one use.\",\n",
    "    \"Decent quality and quite worth the price.\",\n",
    "    \"Absolutely fantastic service, highly recommend!\",\n",
    "    \"Too bad quality for this price.\",\n",
    "]\n",
    "\n",
    "# Transforming comments using the fitted TF-IDF vectorizer\n",
    "example_features = tfidf.transform(example_comments)\n",
    "\n",
    "# Making predictions\n",
    "example_predictions = model.predict(example_features)\n",
    "\n",
    "# Mapping predictions to sentiment\n",
    "sentiment_map = {1: \"Positive\", 0: \"Negative\"}\n",
    "example_results = [(comment, sentiment_map[pred]) for comment, pred in zip(example_comments, example_predictions)]\n",
    "\n",
    "# Displaying results\n",
    "for comment, sentiment in example_results:\n",
    "    print(f\"Comment: {comment}\")\n",
    "    print(f\"Predicted Sentiment: {sentiment}\")\n",
    "    print(\"---\")\n"
   ]
  },
  {
   "cell_type": "code",
   "execution_count": null,
   "id": "41bc35ba-eddd-44e5-97a1-583277ea6357",
   "metadata": {},
   "outputs": [],
   "source": []
  }
 ],
 "metadata": {
  "kernelspec": {
   "display_name": "Python 3 (ipykernel)",
   "language": "python",
   "name": "python3"
  },
  "language_info": {
   "codemirror_mode": {
    "name": "ipython",
    "version": 3
   },
   "file_extension": ".py",
   "mimetype": "text/x-python",
   "name": "python",
   "nbconvert_exporter": "python",
   "pygments_lexer": "ipython3",
   "version": "3.10.6"
  }
 },
 "nbformat": 4,
 "nbformat_minor": 5
}
